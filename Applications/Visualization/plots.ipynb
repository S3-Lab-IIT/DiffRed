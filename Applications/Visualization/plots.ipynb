{
 "cells": [
  {
   "cell_type": "code",
   "execution_count": 253,
   "metadata": {},
   "outputs": [],
   "source": [
    "import pandas as pd\n",
    "import numpy as np\n",
    "import os\n",
    "import matplotlib.pyplot as plt\n",
    "import matplotlib.cm as cm\n",
    "from matplotlib.ticker import MaxNLocator\n",
    "from matplotlib.colors import ListedColormap\n",
    "from itertools import combinations,product\n",
    "plt.rcParams['text.usetex'] = True\n",
    "import sys"
   ]
  },
  {
   "cell_type": "code",
   "execution_count": 254,
   "metadata": {},
   "outputs": [],
   "source": [
    "EMBED_DIR=\"../../Experiments/dimensionality_reduction_metrics/embeddings/\"\n",
    "DATA_DIR=\"../../Experiments/dimensionality_reduction_metrics/normalized_data/\"\n",
    "DATASET='Reuters30k'\n",
    "SAVE_DIR='./results/plots'\n",
    "LABEL_DIR='../../Experiments/dimensionality_reduction_metrics/datasets/'\n",
    "SAMPLE_PERCENTAGE=1 if DATASET in ['geneRNASeq'] else (0.8 if DATASET in ['hatespeech'] else 0.02)\n",
    "RANDOM_SEED=42\n",
    "COLORMAP= 'tab10' if DATASET in ['Cifar10', 'FMnist', 'geneRNASeq','hatespeech'] else 'magma'"
   ]
  },
  {
   "cell_type": "code",
   "execution_count": 255,
   "metadata": {},
   "outputs": [],
   "source": [
    "def load_data(dataset:str, EMBED_DIR:str, k1:int, k2:int, max_iter:int=100):\n",
    "    return np.load(os.path.join(EMBED_DIR, dataset, f'{k1}_{k2}_{max_iter}.npy'))"
   ]
  },
  {
   "cell_type": "code",
   "execution_count": 256,
   "metadata": {},
   "outputs": [],
   "source": [
    "def convert_to_numerical(labels:np.ndarray)->np.ndarray:\n",
    "    return np.argmax(labels,axis=1)+1"
   ]
  },
  {
   "cell_type": "code",
   "execution_count": 257,
   "metadata": {},
   "outputs": [],
   "source": [
    "def load_labels(dataset:str, LABEL_DIR:str):\n",
    "    if not dataset in ['Reuters30k']:\n",
    "        return np.load(os.path.join(LABEL_DIR, dataset, 'y.npy'))\n",
    "    else:\n",
    "        return convert_to_numerical(np.load(os.path.join(LABEL_DIR, dataset, 'y.npy')))"
   ]
  },
  {
   "cell_type": "code",
   "execution_count": 258,
   "metadata": {},
   "outputs": [],
   "source": [
    "data=load_data(DATASET, EMBED_DIR, 2, 8)"
   ]
  },
  {
   "cell_type": "code",
   "execution_count": 259,
   "metadata": {},
   "outputs": [],
   "source": [
    "labels=load_labels(DATASET,LABEL_DIR)"
   ]
  },
  {
   "cell_type": "code",
   "execution_count": 260,
   "metadata": {},
   "outputs": [
    {
     "name": "stdout",
     "output_type": "stream",
     "text": [
      "[(0, 1), (0, 2), (1, 2)]\n"
     ]
    }
   ],
   "source": [
    "print(list(combinations(range(3),2)))"
   ]
  },
  {
   "cell_type": "code",
   "execution_count": 261,
   "metadata": {},
   "outputs": [],
   "source": [
    "if not os.path.exists('./results/plots/'):\n",
    "    os.mkdir('./results/plots')"
   ]
  },
  {
   "cell_type": "code",
   "execution_count": 262,
   "metadata": {},
   "outputs": [],
   "source": [
    "def plot_data(x:np.ndarray, y:np.ndarray, labels:np.ndarray, title:str, xlabel:str, ylabel:str, save_path:str, alpha:float ,colormap:str, markersize:int):\n",
    "\n",
    "\n",
    "    plt.figure(figsize=(10, 8))\n",
    "    unique_labels=np.unique(labels)\n",
    "    num_classes=len(unique_labels)\n",
    "    cmap=plt.get_cmap(colormap, num_classes)\n",
    "    norm=plt.Normalize(0,num_classes)\n",
    "    label_cmap=ListedColormap(cmap(norm(unique_labels)))\n",
    "\n",
    "    plt.scatter(x,y,c=labels, cmap=label_cmap,alpha=alpha)\n",
    "    cbar = plt.colorbar()\n",
    "    cbar.set_ticks(np.arange(num_classes))\n",
    "    cbar.set_ticklabels(unique_labels)\n",
    "    handles = [plt.Line2D([0], [0], marker='o', color='w', markerfacecolor=label_cmap(i), markersize=markersize) for i in range(num_classes)]\n",
    "    labels_legend = [f'Label {label}' for label in unique_labels]\n",
    "    plt.legend(handles, labels_legend, title=\"Labels\")\n",
    "    plt.xlabel(xlabel)\n",
    "    plt.ylabel(ylabel)\n",
    "    plt.title(title)\n",
    "    plt.savefig(save_path)\n",
    "    plt.close()\n"
   ]
  },
  {
   "cell_type": "code",
   "execution_count": 263,
   "metadata": {},
   "outputs": [],
   "source": [
    "def make_plots(data:np.ndarray, labels:np.ndarray, k1:int, k2:int, dataset:str, alpha:float=None, colormap:str='viridis', markersize:int=6):\n",
    "    \n",
    "    parent_dir=os.path.join(SAVE_DIR, dataset)\n",
    "    if not os.path.exists(parent_dir):\n",
    "        os.mkdir(parent_dir)\n",
    "    \n",
    "    axes_list=list(combinations(range(k1),2))\n",
    "    pca_dir=os.path.join(parent_dir, 'k1')\n",
    "    if not os.path.exists(pca_dir):\n",
    "        os.mkdir(pca_dir)\n",
    "    for axes in axes_list:\n",
    "        fig_path=os.path.join(pca_dir,f'Axes{axes[0]}{axes[1]}.png')\n",
    "        plot_data(data[:,axes[0]], data[:,axes[1]], labels, f'{dataset} Axes: {axes[0]}, {axes[1]}', f'Axes {axes[0]}', f'Axes {axes[1]}',fig_path,alpha, colormap,markersize)\n",
    "    \n",
    "    axes_list=list(combinations(range(k1,k2),2))\n",
    "    rmap_dir=os.path.join(parent_dir, 'k2')\n",
    "    if not os.path.exists(rmap_dir):\n",
    "        os.mkdir(rmap_dir)\n",
    "    for axes in axes_list:\n",
    "        fig_path=os.path.join(rmap_dir,f'Axes{axes[0]}{axes[1]}.png')\n",
    "        plot_data(data[:,axes[0]], data[:,axes[1]], labels, f'{dataset} Axes: {axes[0]}, {axes[1]}', f'Axes {axes[0]}', f'Axes {axes[1]}',fig_path,alpha, colormap,markersize)\n",
    "    \n",
    "    cross_combinations=list(product(range(k1), range(k1,k2)))\n",
    "    cross_dir=os.path.join(parent_dir, 'cross_combination_plots')\n",
    "    if not os.path.exists(cross_dir):\n",
    "        os.mkdir(cross_dir)\n",
    "    for axes in cross_combinations:\n",
    "        fig_path=os.path.join(cross_dir,f'Axes{axes[0]}{axes[1]}.png')\n",
    "        plot_data(data[:,axes[0]], data[:,axes[1]], labels, f'{dataset} Axes: {axes[0]}, {axes[1]}', f'Axes {axes[0]}', f'Axes {axes[1]}',fig_path,alpha, colormap,markersize)\n"
   ]
  },
  {
   "cell_type": "code",
   "execution_count": 264,
   "metadata": {},
   "outputs": [],
   "source": [
    "sample_percentage=SAMPLE_PERCENTAGE\n",
    "np.random.seed(RANDOM_SEED)\n",
    "random_indices = np.random.choice(data.shape[0], int(data.shape[0]*sample_percentage), replace=False)\n",
    "data_sample = data[random_indices]\n",
    "labels_sample = labels[random_indices]"
   ]
  },
  {
   "cell_type": "code",
   "execution_count": 265,
   "metadata": {},
   "outputs": [],
   "source": [
    "make_plots(data_sample,labels_sample, 2,8, DATASET, None,COLORMAP,3)"
   ]
  }
 ],
 "metadata": {
  "kernelspec": {
   "display_name": "DiffRed",
   "language": "python",
   "name": "python3"
  },
  "language_info": {
   "codemirror_mode": {
    "name": "ipython",
    "version": 3
   },
   "file_extension": ".py",
   "mimetype": "text/x-python",
   "name": "python",
   "nbconvert_exporter": "python",
   "pygments_lexer": "ipython3",
   "version": "3.11.4"
  }
 },
 "nbformat": 4,
 "nbformat_minor": 2
}
